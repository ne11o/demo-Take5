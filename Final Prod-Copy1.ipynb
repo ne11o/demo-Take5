{
 "cells": [
  {
   "cell_type": "markdown",
   "metadata": {},
   "source": [
    "## Density Profiler Visualization:\n",
    "1) Set up the parameters\n",
    "\n",
    "2) Load and Plot interactive Graph"
   ]
  },
  {
   "cell_type": "code",
   "execution_count": 1,
   "metadata": {},
   "outputs": [],
   "source": [
    "from seeq import spy\n",
    "import pandas as pd\n",
    "\n",
    "import numpy as np\n",
    "import matplotlib.pyplot as plt\n",
    "import matplotlib.patches as mpatches\n",
    "\n",
    "%matplotlib inline \n",
    "# %matplotlib notebook\n",
    "\n",
    "from ipywidgets import interactive, HBox, VBox, interact, Layout\n",
    "import ipywidgets as wg\n",
    "\n",
    "from IPython.display import clear_output\n",
    "\n",
    "import datetime"
   ]
  },
  {
   "cell_type": "code",
   "execution_count": 31,
   "metadata": {},
   "outputs": [
    {
     "data": {
      "application/vnd.jupyter.widget-view+json": {
       "model_id": "b0e6b3b94a554958bdcecc115a3f0499",
       "version_major": 2,
       "version_minor": 0
      },
      "text/plain": [
       "HBox(children=(Text(value='user@bp.com', description='Enter BP mail ', placeholder='Type Username', style=Desc…"
      ]
     },
     "metadata": {},
     "output_type": "display_data"
    }
   ],
   "source": [
    "userName = wg.Text(\n",
    "    value='user@bp.com',\n",
    "    placeholder='Type Username',\n",
    "    description='Enter BP mail ',\n",
    "    disabled=False,\n",
    "style = {'description_width': 'initial'}\n",
    ")\n",
    "password = wg.Text(\n",
    "    value='Password',\n",
    "    placeholder='Type Password',\n",
    "    description='Enter BP Password ',\n",
    "    disabled=False,\n",
    "style = {'description_width': 'initial'}\n",
    ")\n",
    "\n",
    "log = wg.HBox([userName,password])\n",
    "display(log)"
   ]
  },
  {
   "cell_type": "code",
   "execution_count": 2,
   "metadata": {},
   "outputs": [
    {
     "data": {
      "application/vnd.jupyter.widget-view+json": {
       "model_id": "46efb3d0c58742c7bab2ff9290bcb166",
       "version_major": 2,
       "version_minor": 0
      },
      "text/plain": [
       "HBox(children=(VBox(children=(DatePicker(value=datetime.date(2020, 2, 18), description='Starting date', style=…"
      ]
     },
     "metadata": {},
     "output_type": "display_data"
    }
   ],
   "source": [
    "#Date Picker widgets\n",
    "style = {'description_width': 'initial'}\n",
    "\n",
    "startTime = wg.DatePicker(\n",
    "    value = datetime.date.today() - datetime.timedelta(days=1),\n",
    "    description='Starting date',\n",
    "    disabled=False,\n",
    "    style=style\n",
    ")\n",
    "startTimeh = wg.Text(\n",
    "    value='01:00:00',\n",
    "    placeholder='Type time',\n",
    "    description='HH:MM:SS ',\n",
    "    disabled=False\n",
    ")\n",
    "\n",
    "endTime = wg.DatePicker(\n",
    "    value = datetime.date.today(),\n",
    "    description='Ending date',\n",
    "    disabled=False,\n",
    "    style=style\n",
    ")\n",
    "endTimeh = wg.Text(\n",
    "    value='00:00:00',\n",
    "    placeholder='Type time',\n",
    "    description='HH:MM:SS ',\n",
    "    disabled=False\n",
    ")\n",
    "\n",
    "asset = wg.Dropdown(\n",
    "    options=[('IP Sep', 'PSVM-1A-DI022**.PV PSVM-1A-XI02205**.PV'), ('Treater', 'PSVM-1A-DI023**.PV PSVM-1A-XI0230**.PV'),\n",
    "             ('Desalter', 'PSVM-1A-DI024**.PV PSVM-1A-XI0240**.PV'), ('HP Sep A', 'PSVM-1A-DI02105**.PV PSVM-1A-XI02205**.PV')],\n",
    "    value='PSVM-1A-DI022**.PV PSVM-1A-XI02205**.PV',\n",
    "    description='Asset:',\n",
    ")\n",
    "fequency = wg.Dropdown(\n",
    "    options=[('1Min', '1min'),('5Min','5min'),('15Min','15min'),('30Min','30min'),('60Min','60min')],\n",
    "    value='1min',\n",
    "    description='Frequency:',\n",
    ")\n",
    "v1 = wg.VBox([startTime,startTimeh])\n",
    "v2 = wg.VBox([endTime,endTimeh])\n",
    "v3 = wg.VBox([asset,fequency])\n",
    "l = wg.HBox([v1,v2, v3])\n",
    "display(l)"
   ]
  },
  {
   "cell_type": "code",
   "execution_count": 7,
   "metadata": {},
   "outputs": [
    {
     "data": {
      "application/vnd.jupyter.widget-view+json": {
       "model_id": "3560db25918844d881368eeb66efb21a",
       "version_major": 2,
       "version_minor": 0
      },
      "text/plain": [
       "Button(description='Load & Plot Data', style=ButtonStyle())"
      ]
     },
     "metadata": {},
     "output_type": "display_data"
    },
    {
     "data": {
      "application/vnd.jupyter.widget-view+json": {
       "model_id": "4869f1d2f0484e18a6c13ac8eea6cee0",
       "version_major": 2,
       "version_minor": 0
      },
      "text/plain": [
       "Output()"
      ]
     },
     "metadata": {},
     "output_type": "display_data"
    }
   ],
   "source": [
    "def getLogin():\n",
    "    f = open(\"credentials.key\", \"w\")   # 'r' for reading and 'w' for writing\n",
    "    f.write(\"{} \\n{}\".format(userName.value,password.value))    # Write inside file \n",
    "    f.close()  \n",
    "    \n",
    "def getData(StartTime, EndTime, Freq, Sep, SepLimits):\n",
    "    my_items = pd.DataFrame({'Name': [Sep]})\n",
    "    x = spy.search(my_items)\n",
    "    my_data = spy.pull(x, start=StartTime, end=EndTime, grid=Freq, header='Name')\n",
    "    my_data = my_data.reindex(sorted(my_data.columns), axis=1)\n",
    "    # my_data\n",
    "\n",
    "    my_new_items = pd.DataFrame({'Name': [SepLimits]})\n",
    "    x_limits = spy.search(my_new_items)\n",
    "\n",
    "    my_data_limits = spy.pull(x_limits, start=StartTime, end=EndTime, grid=Freq, header='Name')\n",
    "    # my_data = my_data.reindex(sorted(my_data.columns), axis=1)\n",
    "    # my_data_limits\n",
    "    return my_data, my_data_limits\n",
    "\n",
    "def plotData(b):\n",
    "\n",
    "    sep1 = asset.value.split()[0]\n",
    "    sepLimits1 = asset.value.split()[1]\n",
    "    startTime1 = startTime.value.strftime(\"%D\") + \" \" + startTimeh.value\n",
    "    endTime1 = endTime.value.strftime(\"%D\") + \" \" + endTimeh.value\n",
    "    freq = fequency.value#'60min'\n",
    "    my_data, my_data_limits = getData(startTime1, endTime1, freq, sep1, sepLimits1)\n",
    "    x = (np.arange(len(my_data.columns), 0, -1)/len(my_data.columns))*100\n",
    "\n",
    "    clear_output(wait=True)\n",
    "    slider = wg.IntSlider(value=1,min=1,max=len(my_data)-1,step=1,description='Date',layout={'width': '800px'})\n",
    "    play = wg.Play(value=1,min=1,max=len(my_data)-1,step=1,interval=1211,description=\"Press play\",disabled=False)\n",
    "    g = wg.jslink((play, 'value'), (slider, 'value'))\n",
    "\n",
    "    @interact\n",
    "    def plotF(a = slider,b=play):\n",
    "        plt.rcParams['figure.figsize'] = (20,8)\n",
    "        plt.rcParams.update({'font.size': 18})\n",
    "        plt.rcParams['axes.xmargin'] = 0\n",
    "        plt.rcParams['axes.ymargin'] = 0\n",
    "\n",
    "        y = my_data.iloc[b]\n",
    "        limits = my_data_limits.iloc[b].sort_values()\n",
    "\n",
    "        Gas = y <= limits[0]\n",
    "        Foam = (y > limits[0]) & (y <= limits[1])\n",
    "        Oil = (y > limits[1]) & (y <= limits[2])\n",
    "        Emul = (y > limits[2]) & (y <= limits[3])\n",
    "        Water = (y > limits[3]) & (y <= limits[4])\n",
    "        Sand = y > limits[4]\n",
    "\n",
    "        x1 = plt.barh(x[Gas],y[Gas],color = 'gray', edgecolor='black', label='Gas')\n",
    "        x2 = plt.barh(x[Foam],y[Foam],color = 'yellow', edgecolor='black', label='Foam')\n",
    "        x3 = plt.barh(x[Oil],y[Oil],color = 'black', edgecolor='black', label='Oil')\n",
    "        x4 = plt.barh(x[Emul],y[Emul],color = 'orange', edgecolor='black', label='Emul')\n",
    "        x5 = plt.barh(x[Water],y[Water],color = 'blue', edgecolor='black', label='Water')\n",
    "        x6 = plt.barh(x[Sand],y[Sand],color = 'red', edgecolor='black', label='Sand')\n",
    "\n",
    "\n",
    "        gas = mpatches.Patch(color='gray', label='Gas')\n",
    "        foam = mpatches.Patch(color='yellow', label='Foam')\n",
    "        oil = mpatches.Patch(color='black', label='Oil')\n",
    "        emul = mpatches.Patch(color='orange', label='Emul')\n",
    "        water = mpatches.Patch(color='blue', label='Water')\n",
    "        sand = mpatches.Patch(color='red', label='Sand')\n",
    "        plt.legend(handles=[gas,foam,oil,emul,water,sand])\n",
    "#         print(my_data.index[b].strftime(\"%b %d %Y %H:%M:%S\"))\n",
    "        plt.title('DP view for separator at: {}'.format(my_data.index[b].strftime(\"%b %d %Y %H:%M:%S\")))\n",
    "        plt.show()\n",
    "    \n",
    "\n",
    "        \n",
    "# x,y = getData(startTime, endTime, freq, sep, sepLimits)\n",
    "from IPython.display import display\n",
    "button = wg.Button(description=\"Load & Plot Data\")\n",
    "\n",
    "output = wg.Output()\n",
    "display(button,output)\n",
    "\n",
    "\n",
    "def on_button_clicked(b):\n",
    "\n",
    "    with output:\n",
    "        print(\"Button clicked.\")\n",
    "        getLogin()\n",
    "        spy.login(url='https://seeq-eh.bpweb.bp.com', credentials_file = 'credentials.key', directory='Minimal AD configuration', ignore_ssl_errors=True)\n",
    "        clear_output(wait=True)\n",
    "        plotData(b)\n",
    "\n",
    "button.on_click(on_button_clicked)\n",
    "\n"
   ]
  },
  {
   "cell_type": "code",
   "execution_count": null,
   "metadata": {},
   "outputs": [],
   "source": []
  }
 ],
 "metadata": {
  "kernelspec": {
   "display_name": "Python 3",
   "language": "python",
   "name": "python3"
  },
  "language_info": {
   "codemirror_mode": {
    "name": "ipython",
    "version": 3
   },
   "file_extension": ".py",
   "mimetype": "text/x-python",
   "name": "python",
   "nbconvert_exporter": "python",
   "pygments_lexer": "ipython3",
   "version": "3.7.4"
  }
 },
 "nbformat": 4,
 "nbformat_minor": 2
}
